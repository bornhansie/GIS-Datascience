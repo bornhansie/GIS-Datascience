{
 "cells": [
  {
   "cell_type": "markdown",
   "metadata": {},
   "source": [
    "# This Notebook will concentrate on how to use multiple indices in remote sensing for vegetation mapping\n",
    "\n",
    "***\n",
    "\n",
    "## The indices we will be looking at includes: \n",
    "\n",
    "### -NDVI = [Normalized difference vegetation index](https://gisgeography.com/ndvi-normalized-difference-vegetation-index/)\n",
    "### -NDWI = [Normalized difference water index](http://edo.jrc.ec.europa.eu/documents/factsheets/factsheet_ndwi.pdf)\n",
    "\n",
    "***\n",
    "## Index Algorithms:\n",
    "\n",
    "![NDVI Image](http://www.scielo.org.za/img/revistas/sajs/v109n3-4/090x01a03.jpg)\n",
    "\n",
    "***\n",
    "# *Sentinel-2 Band Combonations*\n",
    "\n",
    "## - RED = 5\n",
    "## - NIR = 7\n",
    "## - SWIR = 12\n"
   ]
  },
  {
   "cell_type": "code",
   "execution_count": 2,
   "metadata": {},
   "outputs": [
    {
     "name": "stderr",
     "output_type": "stream",
     "text": [
      "C:\\Users\\hannes\\AppData\\Local\\Continuum\\anaconda\\lib\\site-packages\\rasterio\\__init__.py:160: FutureWarning: GDAL-style transforms are deprecated and will not be supported in Rasterio 1.0.\n",
      "  transform = guard_transform(transform)\n"
     ]
    },
    {
     "name": "stdout",
     "output_type": "stream",
     "text": [
      "It took:  0:00:54.313884 to run\n"
     ]
    }
   ],
   "source": [
    "import rasterio\n",
    "import numpy as np\n",
    "import glob\n",
    "from datetime import datetime\n",
    "\n",
    "# If you want to see how long it takes to run this script\n",
    "startTime = datetime.now()\n",
    "\n",
    "# Folder Structure used in this Project\n",
    "image_folder = \"images/*.tif\"\n",
    "ndvi_folder = 'images/ndvi/'\n",
    "ndwi_folder = 'images/ndwi/'\n",
    "\n",
    "# Open the image folder, count the amount of imagery to be used in the range function\n",
    "images = glob.glob(image_folder)\n",
    "rng = len(images)\n",
    "\n",
    "# Indices Function\n",
    "def indices_calc(red,nir,swir):\n",
    "    \n",
    "    # Loop through all the imagery\n",
    "    for i in range(0,rng):\n",
    "        image_file = images[i]\n",
    "        \n",
    "        # Band Selection\n",
    "        with rasterio.open(image_file) as src: \n",
    "            band_red = src.read(red) \n",
    "            band_nir = src.read(nir)\n",
    "            band_swir = src.read(swir)\n",
    "\n",
    "        np.seterr(divide = 'ignore', invalid='ignore')\n",
    "\n",
    "        # NDVI & NDWI Calculation\n",
    "        ndvi = (band_nir.astype(float) - band_red.astype(float))/ (band_nir + band_red)\n",
    "        ndwi = (band_swir.astype(float) - band_nir.astype(float))/ (band_swir + band_nir)\n",
    "\n",
    "        # Metadata\n",
    "        kwargs = src.meta\n",
    "        kwargs.update(dtype=rasterio.float32, count=1)\n",
    "                \n",
    "        # Saving the NDVI & NDWI images\n",
    "        file_name = image_file[7:-4]\n",
    "        with rasterio.open(ndvi_folder+file_name+'_ndvi.tif','w',**kwargs) as dst:\n",
    "            dst.write_band(1, ndvi.astype(rasterio.float32))\n",
    "            \n",
    "        with rasterio.open(ndwi_folder+file_name+'_ndwi.tif','w',**kwargs) as dst:\n",
    "            dst.write_band(1, ndwi.astype(rasterio.float32))\n",
    "\n",
    "# Sentinel Band Combos: Red = 5, NIR = 7, SWIR = 12\n",
    "indices_calc(5,7,12)\n",
    "\n",
    "# To See how long it takes for the script to run\n",
    "print('It took: ', datetime.now() - startTime,  'to run')"
   ]
  },
  {
   "cell_type": "code",
   "execution_count": null,
   "metadata": {},
   "outputs": [],
   "source": []
  }
 ],
 "metadata": {
  "kernelspec": {
   "display_name": "Python 3",
   "language": "python",
   "name": "python3"
  },
  "language_info": {
   "codemirror_mode": {
    "name": "ipython",
    "version": 3
   },
   "file_extension": ".py",
   "mimetype": "text/x-python",
   "name": "python",
   "nbconvert_exporter": "python",
   "pygments_lexer": "ipython3",
   "version": "3.6.7"
  }
 },
 "nbformat": 4,
 "nbformat_minor": 2
}
